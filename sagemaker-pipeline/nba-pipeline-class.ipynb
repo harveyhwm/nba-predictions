{
 "cells": [
  {
   "cell_type": "code",
   "execution_count": 97,
   "id": "1a90309d-4753-4a72-af2c-28c0e4d112ee",
   "metadata": {
    "tags": []
   },
   "outputs": [],
   "source": [
    "import os\n",
    "import time\n",
    "import boto3\n",
    "import numpy as np\n",
    "import pandas as pd\n",
    "from sklearn.model_selection import train_test_split\n",
    "import sagemaker\n",
    "from sagemaker import get_execution_role\n",
    "\n",
    "from io import StringIO, BytesIO"
   ]
  },
  {
   "cell_type": "code",
   "execution_count": null,
   "id": "5f13ed2b-74be-4187-a049-c500899df716",
   "metadata": {},
   "outputs": [],
   "source": [
    "### TODO - make the pipeline as a custom class to make it all nice and smooth!"
   ]
  }
 ],
 "metadata": {
  "kernelspec": {
   "display_name": "env1",
   "language": "python",
   "name": "env1"
  },
  "language_info": {
   "codemirror_mode": {
    "name": "ipython",
    "version": 3
   },
   "file_extension": ".py",
   "mimetype": "text/x-python",
   "name": "python",
   "nbconvert_exporter": "python",
   "pygments_lexer": "ipython3",
   "version": "3.8.9"
  }
 },
 "nbformat": 4,
 "nbformat_minor": 5
}
